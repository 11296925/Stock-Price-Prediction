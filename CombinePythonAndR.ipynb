{
 "cells": [
  {
   "cell_type": "code",
   "execution_count": 1,
   "metadata": {},
   "outputs": [],
   "source": [
    "# Retrieve news articles and their sentiment\n",
    "import rpy2.robjects as robjects\n",
    "import rpy2.robjects.packages as rpackages\n",
    "from rpy2.robjects.vectors import StrVector"
   ]
  },
  {
   "cell_type": "code",
   "execution_count": 56,
   "metadata": {},
   "outputs": [],
   "source": [
    "from nltk.classify import NaiveBayesClassifier\n",
    "from nltk.corpus import subjectivity\n",
    "from nltk.sentiment import SentimentAnalyzer\n",
    "from nltk.sentiment import util"
   ]
  },
  {
   "cell_type": "code",
   "execution_count": 87,
   "metadata": {},
   "outputs": [
    {
     "name": "stdout",
     "output_type": "stream",
     "text": [
      "NewsArticles/AppleNews/4AAPL.txt\n",
      "0.0\n",
      "NewsArticles/AppleNews/17AAPL.txt\n",
      "-3.0\n",
      "NewsArticles/AppleNews/3AAPL.txt\n",
      "2.0\n",
      "NewsArticles/AppleNews/13AAPL.txt\n",
      "9.0\n",
      "NewsArticles/AppleNews/11AAPL.txt\n",
      "0.0\n",
      "NewsArticles/AppleNews/20AAPL.txt\n",
      "29.0\n",
      "NewsArticles/AppleNews/15AAPL.txt\n",
      "1.0\n",
      "NewsArticles/AppleNews/10AAPL.txt\n",
      "2.0\n",
      "NewsArticles/AppleNews/19AAPL.txt\n",
      "44.0\n",
      "NewsArticles/AppleNews/1AAPL.txt\n",
      "4.0\n",
      "NewsArticles/AppleNews/2AAPL.txt\n",
      "1.0\n",
      "NewsArticles/AppleNews/9AAPL.txt\n",
      "17.0\n",
      "NewsArticles/AppleNews/18AAPL.txt\n",
      "1.0\n",
      "NewsArticles/AppleNews/14AAPL.txt\n",
      "6.0\n",
      "NewsArticles/AppleNews/6AAPL.txt\n",
      "0.0\n",
      "NewsArticles/AppleNews/7AAPL.txt\n",
      "2.0\n",
      "NewsArticles/AppleNews/5AAPL.txt\n",
      "1.0\n",
      "NewsArticles/AppleNews/12AAPL.txt\n",
      "5.0\n",
      "NewsArticles/AppleNews/8AAPL.txt\n",
      "2.0\n",
      "NewsArticles/AppleNews/16AAPL.txt\n",
      "39.0\n",
      "0\n"
     ]
    }
   ],
   "source": [
    "import glob\n",
    "import re\n",
    "import sys\n",
    "\n",
    "from nltk.sentiment.vader import SentimentIntensityAnalyzer\n",
    "sid = SentimentIntensityAnalyzer()\n",
    "\n",
    "sentim_analyzer = SentimentAnalyzer()\n",
    "pos, neg = 0, 0\n",
    "allpos = 0\n",
    "\n",
    "files = glob.glob(\"NewsArticles/AppleNews/*.txt\")\n",
    "for file in files:\n",
    "    print(file)\n",
    "    pos, neg = 0, 0\n",
    "    wordList = []\n",
    "    f = open(file, \"r\")\n",
    "    lines = f.readlines()\n",
    "    for line in lines:\n",
    "        words = re.sub(\"[^\\w]\", \" \",  line).split()\n",
    "        words = util.mark_negation(words)\n",
    "        for word in words:\n",
    "            pos += sid.polarity_scores(word)['pos']   \n",
    "            neg += sid.polarity_scores(word)['neg']\n",
    "    print(pos-neg)\n",
    "# \n",
    "\n",
    "print(allpos)\n",
    "            \n",
    "#     obj = Sentiment(text=wordList)\n",
    "#     data = obj.get\n",
    "#     print(data)"
   ]
  },
  {
   "cell_type": "code",
   "execution_count": 81,
   "metadata": {},
   "outputs": [
    {
     "name": "stdout",
     "output_type": "stream",
     "text": [
      "Positive rate: 246.0\n",
      "Negative rate: 135.0\n",
      "Ratio positive/negative =  1.8222222222222222\n"
     ]
    }
   ],
   "source": [
    "pos, neg = 0, 0\n",
    "\n",
    "files = glob.glob(\"NewsArticles/GoogleNews/*.txt\")\n",
    "for file in files:\n",
    "    wordList = []\n",
    "    f = open(file, \"r\")\n",
    "    lines = f.readlines()\n",
    "    for line in lines:\n",
    "        words = re.sub(\"[^\\w]\", \" \",  line).split()\n",
    "        words = util.mark_negation(words)\n",
    "        for word in words:\n",
    "            pos += sid.polarity_scores(word)['pos']   \n",
    "            neg += sid.polarity_scores(word)['neg']\n",
    "print('Positive rate:', pos)\n",
    "print('Negative rate:', neg)\n",
    "print('Ratio positive/negative = ', pos/neg)"
   ]
  },
  {
   "cell_type": "code",
   "execution_count": 82,
   "metadata": {},
   "outputs": [
    {
     "name": "stdout",
     "output_type": "stream",
     "text": [
      "Positive rate: 357.0\n",
      "Negative rate: 145.0\n",
      "Ratio positive/negative =  2.462068965517241\n"
     ]
    }
   ],
   "source": [
    "pos, neg = 0, 0\n",
    "\n",
    "files = glob.glob(\"NewsArticles/MSFTNews/*.txt\")\n",
    "for file in files:\n",
    "    wordList = []\n",
    "    f = open(file, \"r\")\n",
    "    lines = f.readlines()\n",
    "    for line in lines:\n",
    "        words = re.sub(\"[^\\w]\", \" \",  line).split()\n",
    "        words = util.mark_negation(words)\n",
    "        for word in words:\n",
    "            pos += sid.polarity_scores(word)['pos']   \n",
    "            neg += sid.polarity_scores(word)['neg']\n",
    "print('Positive rate:', pos)\n",
    "print('Negative rate:', neg)\n",
    "print('Ratio positive/negative = ', pos/neg)"
   ]
  }
 ],
 "metadata": {
  "kernelspec": {
   "display_name": "Python 3",
   "language": "python",
   "name": "python3"
  },
  "language_info": {
   "codemirror_mode": {
    "name": "ipython",
    "version": 3
   },
   "file_extension": ".py",
   "mimetype": "text/x-python",
   "name": "python",
   "nbconvert_exporter": "python",
   "pygments_lexer": "ipython3",
   "version": "3.7.7"
  }
 },
 "nbformat": 4,
 "nbformat_minor": 4
}
